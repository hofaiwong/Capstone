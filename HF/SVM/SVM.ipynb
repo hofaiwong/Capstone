{
 "cells": [
  {
   "cell_type": "markdown",
   "metadata": {},
   "source": [
    "# Load"
   ]
  },
  {
   "cell_type": "code",
   "execution_count": 1,
   "metadata": {
    "collapsed": false
   },
   "outputs": [
    {
     "data": {
      "text/html": [
       "<div>\n",
       "<table border=\"1\" class=\"dataframe\">\n",
       "  <thead>\n",
       "    <tr style=\"text-align: right;\">\n",
       "      <th></th>\n",
       "      <th>duration</th>\n",
       "      <th>aol</th>\n",
       "      <th>auth</th>\n",
       "      <th>bgp</th>\n",
       "      <th>courier</th>\n",
       "      <th>csnet_ns</th>\n",
       "      <th>ctf</th>\n",
       "      <th>daytime</th>\n",
       "      <th>discard</th>\n",
       "      <th>domain</th>\n",
       "      <th>...</th>\n",
       "      <th>dst_host_srv_count</th>\n",
       "      <th>dst_host_same_srv_rate</th>\n",
       "      <th>dst_host_diff_srv_rate</th>\n",
       "      <th>dst_host_same_src_port_rate</th>\n",
       "      <th>dst_host_srv_diff_host_rate</th>\n",
       "      <th>dst_host_serror_rate</th>\n",
       "      <th>dst_host_srv_serror_rate</th>\n",
       "      <th>dst_host_rerror_rate</th>\n",
       "      <th>dst_host_srv_rerror_rate</th>\n",
       "      <th>outcome.response</th>\n",
       "    </tr>\n",
       "  </thead>\n",
       "  <tbody>\n",
       "    <tr>\n",
       "      <th>0</th>\n",
       "      <td>0</td>\n",
       "      <td>0</td>\n",
       "      <td>0</td>\n",
       "      <td>0</td>\n",
       "      <td>0</td>\n",
       "      <td>0</td>\n",
       "      <td>0</td>\n",
       "      <td>0</td>\n",
       "      <td>0</td>\n",
       "      <td>0</td>\n",
       "      <td>...</td>\n",
       "      <td>25</td>\n",
       "      <td>0.17</td>\n",
       "      <td>0.03</td>\n",
       "      <td>0.17</td>\n",
       "      <td>0.0</td>\n",
       "      <td>0.0</td>\n",
       "      <td>0.0</td>\n",
       "      <td>0.05</td>\n",
       "      <td>0.0</td>\n",
       "      <td>0</td>\n",
       "    </tr>\n",
       "    <tr>\n",
       "      <th>1</th>\n",
       "      <td>0</td>\n",
       "      <td>0</td>\n",
       "      <td>0</td>\n",
       "      <td>0</td>\n",
       "      <td>0</td>\n",
       "      <td>0</td>\n",
       "      <td>0</td>\n",
       "      <td>0</td>\n",
       "      <td>0</td>\n",
       "      <td>0</td>\n",
       "      <td>...</td>\n",
       "      <td>1</td>\n",
       "      <td>0.00</td>\n",
       "      <td>0.60</td>\n",
       "      <td>0.88</td>\n",
       "      <td>0.0</td>\n",
       "      <td>0.0</td>\n",
       "      <td>0.0</td>\n",
       "      <td>0.00</td>\n",
       "      <td>0.0</td>\n",
       "      <td>0</td>\n",
       "    </tr>\n",
       "  </tbody>\n",
       "</table>\n",
       "<p>2 rows × 123 columns</p>\n",
       "</div>"
      ],
      "text/plain": [
       "   duration  aol  auth  bgp  courier  csnet_ns  ctf  daytime  discard  domain  \\\n",
       "0         0    0     0    0        0         0    0        0        0       0   \n",
       "1         0    0     0    0        0         0    0        0        0       0   \n",
       "\n",
       "         ...         dst_host_srv_count  dst_host_same_srv_rate  \\\n",
       "0        ...                         25                    0.17   \n",
       "1        ...                          1                    0.00   \n",
       "\n",
       "   dst_host_diff_srv_rate  dst_host_same_src_port_rate  \\\n",
       "0                    0.03                         0.17   \n",
       "1                    0.60                         0.88   \n",
       "\n",
       "   dst_host_srv_diff_host_rate  dst_host_serror_rate  \\\n",
       "0                          0.0                   0.0   \n",
       "1                          0.0                   0.0   \n",
       "\n",
       "   dst_host_srv_serror_rate  dst_host_rerror_rate  dst_host_srv_rerror_rate  \\\n",
       "0                       0.0                  0.05                       0.0   \n",
       "1                       0.0                  0.00                       0.0   \n",
       "\n",
       "   outcome.response  \n",
       "0                 0  \n",
       "1                 0  \n",
       "\n",
       "[2 rows x 123 columns]"
      ]
     },
     "execution_count": 1,
     "metadata": {},
     "output_type": "execute_result"
    }
   ],
   "source": [
    "\"\"\"\n",
    "Load dataset\n",
    "\"\"\"\n",
    "import pandas as pd\n",
    "import numpy as np\n",
    "path_to_file = \"~/Desktop/new.KDD.train.csv\"\n",
    "data = pd.read_csv(path_to_file)\n",
    "data = data.drop('Unnamed: 0',axis=1)\n",
    "data.head(2)"
   ]
  },
  {
   "cell_type": "markdown",
   "metadata": {},
   "source": [
    "# Split Prep"
   ]
  },
  {
   "cell_type": "code",
   "execution_count": 2,
   "metadata": {
    "collapsed": false
   },
   "outputs": [],
   "source": [
    "import sklearn.cross_validation as cv\n",
    "X = data.iloc[:,0:-1]\n",
    "y=data.iloc[:,-1]\n",
    "\n",
    "x_train, x_test, y_train, y_test = cv.train_test_split(X, \n",
    "                                                       y, \n",
    "                                                       train_size=0.7, \n",
    "                                                       random_state=0)"
   ]
  },
  {
   "cell_type": "code",
   "execution_count": 3,
   "metadata": {
    "collapsed": true
   },
   "outputs": [],
   "source": [
    "import sklearn.metrics as met\n",
    "\n",
    "def get_error(x_train, y_train, x_test, y_test, model, show = True):\n",
    "    model.fit(x_train, y_train)\n",
    "    train_error = 1 - model.score(x_train, y_train)\n",
    "    test_error = 1 - model.score(x_test, y_test)\n",
    "    #train_auc = met.roc_auc_score(x_train, y_train)\n",
    "    #test_auc = met.roc_auc_score(x_test, y_test)\n",
    "    if show:\n",
    "        print \"The training error is: %.5f\" %train_error \n",
    "        print \"The test     error is: %.5f\" %test_error\n",
    "        #print \"The training auc is: %.5f\" %train_auc\n",
    "        #print \"The test     auc is: %.5f\" %test_auc\n",
    "    return [train_error, test_error]"
   ]
  },
  {
   "cell_type": "markdown",
   "metadata": {},
   "source": [
    "# SVM"
   ]
  },
  {
   "cell_type": "code",
   "execution_count": 4,
   "metadata": {
    "collapsed": true
   },
   "outputs": [],
   "source": [
    "import numpy as np\n",
    "from sklearn import grid_search as gs\n",
    "from sklearn import svm\n",
    "#from sklearn import preprocessing"
   ]
  },
  {
   "cell_type": "markdown",
   "metadata": {},
   "source": [
    "## CV using sklearn.svm.SVC\n",
    "http://scikit-learn.org/stable/modules/generated/sklearn.svm.SVC.html#sklearn.svm.SVC"
   ]
  },
  {
   "cell_type": "code",
   "execution_count": 5,
   "metadata": {
    "collapsed": true
   },
   "outputs": [],
   "source": [
    "svc_model = svm.SVC(kernel='linear', cache_size=500, random_state=0)\n",
    "grid_para_svc = {'C': np.logspace(-3, 3, 100)}\n",
    "grid_search_svc = gs.GridSearchCV(svc_model, grid_para_svc)"
   ]
  },
  {
   "cell_type": "code",
   "execution_count": null,
   "metadata": {
    "collapsed": true
   },
   "outputs": [],
   "source": [
    "grid_search_svc.fit(x_train, y_train)"
   ]
  },
  {
   "cell_type": "code",
   "execution_count": null,
   "metadata": {
    "collapsed": true
   },
   "outputs": [],
   "source": [
    "print grid_search_svc.best_params_\n",
    "scores = np.array([1- scores.mean_validation_score for scores in grid_search_svc.grid_scores_])"
   ]
  },
  {
   "cell_type": "markdown",
   "metadata": {},
   "source": [
    "## CV using sklearn.svm.LinearSVC\n",
    "http://scikit-learn.org/stable/modules/generated/sklearn.svm.LinearSVC.html#sklearn.svm.LinearSVC"
   ]
  },
  {
   "cell_type": "code",
   "execution_count": 7,
   "metadata": {
    "collapsed": true
   },
   "outputs": [],
   "source": [
    "C = np.logspace(-3, 3, 300)\n",
    "linearsvc_model = svm.LinearSVC(penalty='l1', dual=False, fit_intercept=True, random_state=0, max_iter=1000)\n",
    "grid_para_linearsvc = {'C': np.logspace(-3, 3, 100)}\n",
    "stratify_divide = cv.StratifiedKFold(y=y_train, n_folds=5, shuffle=True, random_state=0)\n",
    "grid_search_linearsvc = gs.GridSearchCV(linearsvc_model, grid_para_linearsvc, cv=stratify_divide)"
   ]
  },
  {
   "cell_type": "code",
   "execution_count": 8,
   "metadata": {
    "collapsed": false
   },
   "outputs": [
    {
     "data": {
      "text/plain": [
       "GridSearchCV(cv=sklearn.cross_validation.StratifiedKFold(labels=[1 0 ..., 0 0], n_folds=5, shuffle=True, random_state=0),\n",
       "       error_score='raise',\n",
       "       estimator=LinearSVC(C=1.0, class_weight=None, dual=False, fit_intercept=True,\n",
       "     intercept_scaling=1, loss='squared_hinge', max_iter=1000,\n",
       "     multi_class='ovr', penalty='l1', random_state=0, tol=0.0001,\n",
       "     verbose=0),\n",
       "       fit_params={}, iid=True, n_jobs=1,\n",
       "       param_grid={'C': array([  1.00000e-03,   1.14976e-03, ...,   8.69749e+02,   1.00000e+03])},\n",
       "       pre_dispatch='2*n_jobs', refit=True, scoring=None, verbose=0)"
      ]
     },
     "execution_count": 8,
     "metadata": {},
     "output_type": "execute_result"
    }
   ],
   "source": [
    "grid_search_linearsvc.fit(x_train, y_train)"
   ]
  },
  {
   "cell_type": "code",
   "execution_count": 15,
   "metadata": {
    "collapsed": false
   },
   "outputs": [
    {
     "data": {
      "text/plain": [
       "array([ 0.0356426 ,  0.03512094,  0.03458795,  0.03153741,  0.03014255,\n",
       "        0.02958687,  0.02918996,  0.02905388,  0.0291446 ,  0.02932605,\n",
       "        0.02942811,  0.02954151,  0.02966625,  0.02953017,  0.02956419,\n",
       "        0.02943945,  0.02911058,  0.0289745 ,  0.02879305,  0.02878171,\n",
       "        0.02866831,  0.02872501,  0.02856624,  0.02854356,  0.0283848 ,\n",
       "        0.02826006,  0.02814665,  0.02798789,  0.02793119,  0.02781778,\n",
       "        0.02772706,  0.02763634,  0.02759098,  0.02748891,  0.02706932,\n",
       "        0.02742087,  0.02765902,  0.02767036,  0.02772706,  0.02739819,\n",
       "        0.02738685,  0.02722809,  0.02730747,  0.02738685,  0.02743221,\n",
       "        0.02714871,  0.02718273,  0.02704664,  0.0270353 ,  0.0269219 ,\n",
       "        0.0270353 ,  0.02701262,  0.02708066,  0.02694458,  0.02678582,\n",
       "        0.02693324,  0.02684252,  0.02684252,  0.02681984,  0.02683118,\n",
       "        0.02700128,  0.02698994,  0.0269786 ,  0.0268652 ,  0.02698994,\n",
       "        0.02706932,  0.02696726,  0.02704664,  0.0269786 ,  0.0270353 ,\n",
       "        0.02687654,  0.0268652 ,  0.02687654,  0.02685386,  0.02684252,\n",
       "        0.02684252,  0.02681984,  0.02681984,  0.0268652 ,  0.02685386,\n",
       "        0.02685386,  0.02679716,  0.02684252,  0.02684252,  0.02684252,\n",
       "        0.02684252,  0.02684252,  0.02679716,  0.02679716,  0.02683118,\n",
       "        0.02678582,  0.02683118,  0.02678582,  0.02683118,  0.02683118,\n",
       "        0.0268652 ,  0.0268652 ,  0.0268652 ,  0.02704664,  0.02704664])"
      ]
     },
     "execution_count": 15,
     "metadata": {},
     "output_type": "execute_result"
    }
   ],
   "source": [
    "scores = np.array([1- scores.mean_validation_score for scores in grid_search_linearsvc.grid_scores_])\n",
    "scores"
   ]
  },
  {
   "cell_type": "code",
   "execution_count": 11,
   "metadata": {
    "collapsed": false
   },
   "outputs": [
    {
     "data": {
      "text/plain": [
       "LinearSVC(C=1.873817422860385, class_weight=None, dual=False,\n",
       "     fit_intercept=True, intercept_scaling=1, loss='squared_hinge',\n",
       "     max_iter=1000, multi_class='ovr', penalty='l1', random_state=0,\n",
       "     tol=0.0001, verbose=0)"
      ]
     },
     "execution_count": 11,
     "metadata": {},
     "output_type": "execute_result"
    }
   ],
   "source": [
    "grid_search_linearsvc.best_estimator_"
   ]
  },
  {
   "cell_type": "code",
   "execution_count": 12,
   "metadata": {
    "collapsed": false
   },
   "outputs": [
    {
     "data": {
      "text/plain": [
       "0.97321418446150532"
      ]
     },
     "execution_count": 12,
     "metadata": {},
     "output_type": "execute_result"
    }
   ],
   "source": [
    "grid_search_linearsvc.best_score_"
   ]
  },
  {
   "cell_type": "code",
   "execution_count": 13,
   "metadata": {
    "collapsed": false
   },
   "outputs": [
    {
     "data": {
      "text/plain": [
       "{'C': 1.873817422860385}"
      ]
     },
     "execution_count": 13,
     "metadata": {},
     "output_type": "execute_result"
    }
   ],
   "source": [
    "grid_search_linearsvc.best_params_"
   ]
  },
  {
   "cell_type": "code",
   "execution_count": 17,
   "metadata": {
    "collapsed": false
   },
   "outputs": [
    {
     "data": {
      "text/plain": [
       "1.873817422860385"
      ]
     },
     "execution_count": 17,
     "metadata": {},
     "output_type": "execute_result"
    }
   ],
   "source": [
    "grid_search_linearsvc.best_estimator_.C"
   ]
  },
  {
   "cell_type": "code",
   "execution_count": 19,
   "metadata": {
    "collapsed": false
   },
   "outputs": [
    {
     "data": {
      "text/plain": [
       "array([[ -8.02805070e-06,   0.00000000e+00,  -4.01836430e-01,\n",
       "          6.76636374e-01,   5.54395119e-01,   1.47126543e+00,\n",
       "          1.47780590e+00,   1.10680053e+00,   2.95672506e-01,\n",
       "         -4.38045496e-01,  -3.58412090e-01,   9.02825150e-01,\n",
       "          3.12770199e-01,   4.65575885e-01,   5.95259904e-01,\n",
       "          6.10206014e-01,  -4.12239107e-01,  -4.81409201e-01,\n",
       "         -4.70756655e-01,   1.39368256e+00,   0.00000000e+00,\n",
       "          1.40694898e+00,  -1.67536920e-01,   0.00000000e+00,\n",
       "          7.36000749e-01,   0.00000000e+00,   7.65730844e-01,\n",
       "         -2.86252127e+00,   1.42327224e+00,   5.17102158e-01,\n",
       "          5.05371032e-01,   1.32944848e+00,   1.15043750e+00,\n",
       "          3.91914318e-01,   1.41718995e+00,   1.56331652e+00,\n",
       "          3.57613417e-01,   7.13929254e-01,   7.02253584e-01,\n",
       "          1.27332001e+00,   6.22312291e-01,   1.57451336e+00,\n",
       "         -9.42898932e-01,  -5.59531678e-01,   1.49794266e+00,\n",
       "          1.11036716e+00,  -9.69186152e-01,   5.58535569e-01,\n",
       "          1.11252346e+00,  -5.95625516e-01,   1.28682275e+00,\n",
       "          1.25803019e+00,   0.00000000e+00,  -7.00465599e-01,\n",
       "          6.79355939e-01,   4.25325889e-01,   0.00000000e+00,\n",
       "          1.34193283e+00,   1.08259252e+00,  -8.34640473e-01,\n",
       "          0.00000000e+00,  -1.28955069e-01,  -3.28700563e-01,\n",
       "         -6.04468248e-01,  -1.28601998e+00,   1.53722923e+00,\n",
       "          3.99152830e-01,   4.04320213e-01,   1.56824575e+00,\n",
       "         -9.25881448e-01,   4.95496050e-01,   6.98942426e-03,\n",
       "         -3.43332398e-01,  -9.67612105e-01,   4.22399826e-01,\n",
       "         -7.38662668e-01,   8.66756933e-02,   1.59463615e+00,\n",
       "          1.06165744e+00,   2.19645911e-01,  -2.07694485e+00,\n",
       "         -1.19157235e+00,  -1.06570657e+00,  -1.97523326e-01,\n",
       "         -4.95689132e-01,   7.43182337e-08,   1.35144369e-07,\n",
       "         -1.68416461e+00,   1.14807960e+00,   7.04623069e-01,\n",
       "          7.13705212e-02,   4.39497371e-01,   2.13627773e-01,\n",
       "          1.14857243e-01,   4.83454466e-01,  -7.64117190e-01,\n",
       "         -1.16058678e-01,  -2.63789686e-02,   2.18649939e-01,\n",
       "         -1.17774657e-01,   0.00000000e+00,   0.00000000e+00,\n",
       "         -9.96261428e-01,   4.21379790e-03,  -1.57563986e-03,\n",
       "         -9.69433907e-02,   1.16221558e+00,  -2.69507835e-01,\n",
       "          6.02974359e-01,  -5.75510576e-01,  -4.27169641e-01,\n",
       "          3.36591513e-01,   1.63544343e-03,  -3.28135324e-03,\n",
       "          2.65159667e-01,   3.57057913e-01,   7.21131906e-01,\n",
       "          7.63934563e-01,   1.41086599e-02,   6.92525687e-01,\n",
       "          4.46369277e-01,  -5.03475091e-02]])"
      ]
     },
     "execution_count": 19,
     "metadata": {},
     "output_type": "execute_result"
    }
   ],
   "source": [
    "grid_search_linearsvc.best_estimator_.coef_"
   ]
  },
  {
   "cell_type": "markdown",
   "metadata": {},
   "source": [
    "## Plot"
   ]
  },
  {
   "cell_type": "code",
   "execution_count": 32,
   "metadata": {
    "collapsed": false
   },
   "outputs": [
    {
     "name": "stdout",
     "output_type": "stream",
     "text": [
      "Populating the interactive namespace from numpy and matplotlib\n"
     ]
    },
    {
     "data": {
      "image/png": "[encoded data removed]",
      "text/plain": [
       "<matplotlib.figure.Figure at 0x119acd5d0>"
      ]
     },
     "metadata": {},
     "output_type": "display_data"
    }
   ],
   "source": [
    "%pylab inline\n",
    "import matplotlib.pyplot as pl\n",
    "#pl.plot(np.log10(C), svm_train, c = 'blue', label='training error')\n",
    "#pl.plot(np.log10(C), svm_test, c = 'red', label='test error')\n",
    "pl.plot(np.log10(C), scores, c='green', label='cv error')\n",
    "pl.legend()\n",
    "pl.xlabel('$\\log_{10}(C)$')\n",
    "pl.show()"
   ]
  },
  {
   "cell_type": "code",
   "execution_count": 33,
   "metadata": {
    "collapsed": false
   },
   "outputs": [
    {
     "data": {
      "text/plain": [
       "0.62593843086649537"
      ]
     },
     "execution_count": 33,
     "metadata": {},
     "output_type": "execute_result"
    }
   ],
   "source": [
    "log(1.87)"
   ]
  },
  {
   "cell_type": "code",
   "execution_count": null,
   "metadata": {
    "collapsed": true
   },
   "outputs": [],
   "source": []
  }
 ],
 "metadata": {
  "kernelspec": {
   "display_name": "Python 2",
   "language": "python",
   "name": "python2"
  },
  "language_info": {
   "codemirror_mode": {
    "name": "ipython",
    "version": 2
   },
   "file_extension": ".py",
   "mimetype": "text/x-python",
   "name": "python",
   "nbconvert_exporter": "python",
   "pygments_lexer": "ipython2",
   "version": "2.7.11"
  }
 },
 "nbformat": 4,
 "nbformat_minor": 0
}
