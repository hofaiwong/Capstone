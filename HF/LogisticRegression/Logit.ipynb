{
 "cells": [
  {
   "cell_type": "markdown",
   "metadata": {},
   "source": [
    "# Load & Imputation"
   ]
  },
  {
   "cell_type": "code",
   "execution_count": 19,
   "metadata": {
    "collapsed": false
   },
   "outputs": [
    {
     "data": {
      "text/html": [
       "<div>\n",
       "<table border=\"1\" class=\"dataframe\">\n",
       "  <thead>\n",
       "    <tr style=\"text-align: right;\">\n",
       "      <th></th>\n",
       "      <th>SeriousDlqin2yrs</th>\n",
       "      <th>age</th>\n",
       "      <th>MonthlyIncome</th>\n",
       "      <th>NumberOfDependents</th>\n",
       "      <th>RevolvingUtilizationOfUnsecuredLines</th>\n",
       "      <th>DebtRatio</th>\n",
       "      <th>NumberOfOpenCreditLinesAndLoans</th>\n",
       "      <th>NumberRealEstateLoansOrLines</th>\n",
       "      <th>NumberOfTime30.59DaysPastDueNotWorse</th>\n",
       "      <th>NumberOfTime60.89DaysPastDueNotWorse</th>\n",
       "      <th>NumberOfTimes90DaysLate</th>\n",
       "    </tr>\n",
       "  </thead>\n",
       "  <tbody>\n",
       "    <tr>\n",
       "      <th>0</th>\n",
       "      <td>1</td>\n",
       "      <td>45.0</td>\n",
       "      <td>9120.0</td>\n",
       "      <td>2.0</td>\n",
       "      <td>0.766127</td>\n",
       "      <td>0.802982</td>\n",
       "      <td>13</td>\n",
       "      <td>6</td>\n",
       "      <td>2.0</td>\n",
       "      <td>0.0</td>\n",
       "      <td>0.0</td>\n",
       "    </tr>\n",
       "    <tr>\n",
       "      <th>1</th>\n",
       "      <td>0</td>\n",
       "      <td>40.0</td>\n",
       "      <td>2600.0</td>\n",
       "      <td>1.0</td>\n",
       "      <td>0.957151</td>\n",
       "      <td>0.121876</td>\n",
       "      <td>4</td>\n",
       "      <td>0</td>\n",
       "      <td>0.0</td>\n",
       "      <td>0.0</td>\n",
       "      <td>0.0</td>\n",
       "    </tr>\n",
       "    <tr>\n",
       "      <th>2</th>\n",
       "      <td>0</td>\n",
       "      <td>38.0</td>\n",
       "      <td>3042.0</td>\n",
       "      <td>0.0</td>\n",
       "      <td>0.658180</td>\n",
       "      <td>0.085113</td>\n",
       "      <td>2</td>\n",
       "      <td>0</td>\n",
       "      <td>1.0</td>\n",
       "      <td>0.0</td>\n",
       "      <td>1.0</td>\n",
       "    </tr>\n",
       "    <tr>\n",
       "      <th>3</th>\n",
       "      <td>0</td>\n",
       "      <td>30.0</td>\n",
       "      <td>3300.0</td>\n",
       "      <td>0.0</td>\n",
       "      <td>0.233810</td>\n",
       "      <td>0.036050</td>\n",
       "      <td>5</td>\n",
       "      <td>0</td>\n",
       "      <td>0.0</td>\n",
       "      <td>0.0</td>\n",
       "      <td>0.0</td>\n",
       "    </tr>\n",
       "    <tr>\n",
       "      <th>4</th>\n",
       "      <td>0</td>\n",
       "      <td>49.0</td>\n",
       "      <td>63588.0</td>\n",
       "      <td>0.0</td>\n",
       "      <td>0.907239</td>\n",
       "      <td>0.024926</td>\n",
       "      <td>7</td>\n",
       "      <td>1</td>\n",
       "      <td>1.0</td>\n",
       "      <td>0.0</td>\n",
       "      <td>0.0</td>\n",
       "    </tr>\n",
       "  </tbody>\n",
       "</table>\n",
       "</div>"
      ],
      "text/plain": [
       "   SeriousDlqin2yrs   age  MonthlyIncome  NumberOfDependents  \\\n",
       "0                 1  45.0         9120.0                 2.0   \n",
       "1                 0  40.0         2600.0                 1.0   \n",
       "2                 0  38.0         3042.0                 0.0   \n",
       "3                 0  30.0         3300.0                 0.0   \n",
       "4                 0  49.0        63588.0                 0.0   \n",
       "\n",
       "   RevolvingUtilizationOfUnsecuredLines  DebtRatio  \\\n",
       "0                              0.766127   0.802982   \n",
       "1                              0.957151   0.121876   \n",
       "2                              0.658180   0.085113   \n",
       "3                              0.233810   0.036050   \n",
       "4                              0.907239   0.024926   \n",
       "\n",
       "   NumberOfOpenCreditLinesAndLoans  NumberRealEstateLoansOrLines  \\\n",
       "0                               13                             6   \n",
       "1                                4                             0   \n",
       "2                                2                             0   \n",
       "3                                5                             0   \n",
       "4                                7                             1   \n",
       "\n",
       "   NumberOfTime30.59DaysPastDueNotWorse  NumberOfTime60.89DaysPastDueNotWorse  \\\n",
       "0                                   2.0                                   0.0   \n",
       "1                                   0.0                                   0.0   \n",
       "2                                   1.0                                   0.0   \n",
       "3                                   0.0                                   0.0   \n",
       "4                                   1.0                                   0.0   \n",
       "\n",
       "   NumberOfTimes90DaysLate  \n",
       "0                      0.0  \n",
       "1                      0.0  \n",
       "2                      1.0  \n",
       "3                      0.0  \n",
       "4                      0.0  "
      ]
     },
     "execution_count": 19,
     "metadata": {},
     "output_type": "execute_result"
    }
   ],
   "source": [
    "\"\"\"\n",
    "Load dataset\n",
    "\"\"\"\n",
    "import pandas as pd\n",
    "import numpy as np\n",
    "path_to_file = \"../.csv\"\n",
    "data = pd.read_csv(path_to_file)\n",
    "data.head(2)"
   ]
  },
  {
   "cell_type": "code",
   "execution_count": 20,
   "metadata": {
    "collapsed": false
   },
   "outputs": [
    {
     "data": {
      "text/plain": [
       "SeriousDlqin2yrs                         0.0000\n",
       "age                                      0.0007\n",
       "MonthlyIncome                           19.8207\n",
       "NumberOfDependents                       2.6160\n",
       "RevolvingUtilizationOfUnsecuredLines     0.0000\n",
       "DebtRatio                                0.0000\n",
       "NumberOfOpenCreditLinesAndLoans          0.0000\n",
       "NumberRealEstateLoansOrLines             0.0000\n",
       "NumberOfTime30.59DaysPastDueNotWorse     0.1793\n",
       "NumberOfTime60.89DaysPastDueNotWorse     0.1793\n",
       "NumberOfTimes90DaysLate                  0.1793\n",
       "dtype: float64"
      ]
     },
     "execution_count": 20,
     "metadata": {},
     "output_type": "execute_result"
    }
   ],
   "source": [
    "#Count of NaN\n",
    "(data.isnull().sum() / data.shape[0] *100).round(4)"
   ]
  },
  {
   "cell_type": "code",
   "execution_count": 16,
   "metadata": {
    "collapsed": false
   },
   "outputs": [],
   "source": [
    "#IMPUTATION\n",
    "#from sklearn.preprocessing import Imputer\n",
    "data = data.fillna(data.mean())"
   ]
  },
  {
   "cell_type": "code",
   "execution_count": 17,
   "metadata": {
    "collapsed": false
   },
   "outputs": [
    {
     "data": {
      "text/plain": [
       "SeriousDlqin2yrs                        0\n",
       "age                                     0\n",
       "MonthlyIncome                           0\n",
       "NumberOfDependents                      0\n",
       "RevolvingUtilizationOfUnsecuredLines    0\n",
       "DebtRatio                               0\n",
       "NumberOfOpenCreditLinesAndLoans         0\n",
       "NumberRealEstateLoansOrLines            0\n",
       "NumberOfTime30.59DaysPastDueNotWorse    0\n",
       "NumberOfTime60.89DaysPastDueNotWorse    0\n",
       "NumberOfTimes90DaysLate                 0\n",
       "dtype: int64"
      ]
     },
     "execution_count": 17,
     "metadata": {},
     "output_type": "execute_result"
    }
   ],
   "source": [
    "#Count of NaN\n",
    "data.isnull().sum()"
   ]
  },
  {
   "cell_type": "code",
   "execution_count": 39,
   "metadata": {
    "collapsed": false
   },
   "outputs": [
    {
     "data": {
      "text/plain": [
       "SeriousDlqin2yrs\n",
       "0    0.200480\n",
       "1    0.166467\n",
       "dtype: float64"
      ]
     },
     "execution_count": 39,
     "metadata": {},
     "output_type": "execute_result"
    }
   ],
   "source": [
    "#Missingness in monthly income \n",
    "1-data.groupby('SeriousDlqin2yrs')['MonthlyIncome'].count() / data.groupby('SeriousDlqin2yrs')['SeriousDlqin2yrs'].count()"
   ]
  },
  {
   "cell_type": "markdown",
   "metadata": {},
   "source": [
    "# Split Prep"
   ]
  },
  {
   "cell_type": "code",
   "execution_count": 6,
   "metadata": {
    "collapsed": false
   },
   "outputs": [],
   "source": [
    "import sklearn.cross_validation as cv\n",
    "X = data.iloc[:,1:]\n",
    "y=data.iloc[:,0]\n",
    "x_train, x_test, y_train, y_test = cv.train_test_split(X, \n",
    "                                                       y, \n",
    "                                                       train_size=0.7, \n",
    "                                                       random_state=0)"
   ]
  },
  {
   "cell_type": "code",
   "execution_count": 35,
   "metadata": {
    "collapsed": true
   },
   "outputs": [],
   "source": [
    "import sklearn.metrics as met\n",
    "\n",
    "def get_error(x_train, y_train, x_test, y_test, model, show = True):\n",
    "    model.fit(x_train, y_train)\n",
    "    train_error = 1 - model.score(x_train, y_train)\n",
    "    test_error = 1 - model.score(x_test, y_test)\n",
    "    #train_auc = met.roc_auc_score(x_train, y_train)\n",
    "    #test_auc = met.roc_auc_score(x_test, y_test)\n",
    "    if show:\n",
    "        print \"The training error is: %.5f\" %train_error \n",
    "        print \"The test     error is: %.5f\" %test_error\n",
    "        #print \"The training auc is: %.5f\" %train_auc\n",
    "        #print \"The test     auc is: %.5f\" %test_auc\n",
    "    return [train_error, test_error]"
   ]
  },
  {
   "cell_type": "markdown",
   "metadata": {
    "collapsed": true
   },
   "source": [
    "# PCA & Logit #"
   ]
  },
  {
   "cell_type": "code",
   "execution_count": 28,
   "metadata": {
    "collapsed": true
   },
   "outputs": [],
   "source": [
    "from sklearn.decomposition import PCA\n",
    "pca = PCA()\n",
    "pca.set_params(n_components = 2)\n",
    "x_train2 = pca.fit_transform(x_train)\n",
    "x_test2 = pca.transform(x_test)"
   ]
  },
  {
   "cell_type": "code",
   "execution_count": 29,
   "metadata": {
    "collapsed": false
   },
   "outputs": [
    {
     "data": {
      "text/plain": [
       "array([[ -3.79083751e-05,  -9.99999611e-01,  -5.20498879e-06,\n",
       "         -1.57454232e-04,   8.66249821e-04,  -3.17494032e-05,\n",
       "         -1.01282992e-05,   6.12813315e-08,   2.94429767e-07,\n",
       "          6.68538152e-07],\n",
       "       [  2.82591776e-04,   8.66057739e-04,  -3.64120295e-05,\n",
       "          1.09983067e-03,   9.99998951e-01,   2.11674910e-04,\n",
       "          1.07646894e-04,   1.16046638e-06,  -1.13163082e-06,\n",
       "         -4.26586031e-06]])"
      ]
     },
     "execution_count": 29,
     "metadata": {},
     "output_type": "execute_result"
    }
   ],
   "source": [
    "pca.components_"
   ]
  },
  {
   "cell_type": "code",
   "execution_count": 30,
   "metadata": {
    "collapsed": false
   },
   "outputs": [
    {
     "data": {
      "text/plain": [
       "array([ 0.98494995,  0.01460915])"
      ]
     },
     "execution_count": 30,
     "metadata": {},
     "output_type": "execute_result"
    }
   ],
   "source": [
    "pca.explained_variance_ratio_"
   ]
  },
  {
   "cell_type": "code",
   "execution_count": 31,
   "metadata": {
    "collapsed": false
   },
   "outputs": [
    {
     "data": {
      "text/plain": [
       "array([  5.22926314e+01,   6.66764077e+03,   7.55302477e-01,\n",
       "         6.34003875e+00,   3.51009652e+02,   8.45268571e+00,\n",
       "         1.01940000e+00,   2.46877863e-01,   6.52162409e-02,\n",
       "         9.04831361e-02])"
      ]
     },
     "execution_count": 31,
     "metadata": {},
     "output_type": "execute_result"
    }
   ],
   "source": [
    "pca.mean_ "
   ]
  },
  {
   "cell_type": "code",
   "execution_count": 36,
   "metadata": {
    "collapsed": false
   },
   "outputs": [
    {
     "name": "stdout",
     "output_type": "stream",
     "text": [
      "The training error is: 0.06658\n",
      "The test     error is: 0.06744\n"
     ]
    },
    {
     "data": {
      "text/plain": [
       "[0.066580952380952407, 0.067444444444444418]"
      ]
     },
     "execution_count": 36,
     "metadata": {},
     "output_type": "execute_result"
    }
   ],
   "source": [
    "#Logistic regression\n",
    "import sklearn.linear_model as lm\n",
    "logit = lm.LogisticRegression(C=1e5)\n",
    "get_error(x_train2, y_train, x_test2, y_test, logit)"
   ]
  },
  {
   "cell_type": "code",
   "execution_count": 53,
   "metadata": {
    "collapsed": false
   },
   "outputs": [
    {
     "data": {
      "text/plain": [
       "0.066580952380952407"
      ]
     },
     "execution_count": 53,
     "metadata": {},
     "output_type": "execute_result"
    }
   ],
   "source": [
    "zeroes = [0]*len(y_train)\n",
    "1-met.accuracy_score(zeroes,y_train)"
   ]
  },
  {
   "cell_type": "markdown",
   "metadata": {},
   "source": [
    "# Logit"
   ]
  },
  {
   "cell_type": "code",
   "execution_count": 63,
   "metadata": {
    "collapsed": false
   },
   "outputs": [
    {
     "name": "stdout",
     "output_type": "stream",
     "text": [
      "The training error is: 0.06358\n",
      "The test     error is: 0.06436\n"
     ]
    },
    {
     "data": {
      "text/plain": [
       "[0.063580952380952405, 0.06435555555555561]"
      ]
     },
     "execution_count": 63,
     "metadata": {},
     "output_type": "execute_result"
    }
   ],
   "source": [
    "#Logistic regression\n",
    "logit = lm.LogisticRegression(C=1e5)\n",
    "get_error(x_train, y_train, x_test, y_test, logit)"
   ]
  },
  {
   "cell_type": "code",
   "execution_count": 57,
   "metadata": {
    "collapsed": false
   },
   "outputs": [
    {
     "name": "stdout",
     "output_type": "stream",
     "text": [
      "The training error is: 0.06368\n",
      "The test     error is: 0.06464\n"
     ]
    },
    {
     "data": {
      "text/plain": [
       "[0.063676190476190442, 0.064644444444444393]"
      ]
     },
     "execution_count": 57,
     "metadata": {},
     "output_type": "execute_result"
    }
   ],
   "source": [
    "#Logistic regression\n",
    "logit = lm.LogisticRegressionCV(Cs=np.logspace(-5, 5, 100), cv=3)\n",
    "get_error(x_train, y_train, x_test, y_test, logit)"
   ]
  },
  {
   "cell_type": "markdown",
   "metadata": {},
   "source": [
    "from sklearn import grid_search\n",
    "logit = lm.LogisticRegression()\n",
    "para_grid = [{'fit_intercept': [False, True], 'C':np.logspace(-5, 5, 100)}]\n",
    "para_search = grid_search.GridSearchCV(logit, para_grid, scoring='accuracy', cv=3).fit(x_train, y_train)\n",
    "\n",
    "print \"Best score:\" , para_search.best_score_\n",
    "print \"Best params:\" , para_search.best_params_\n",
    "logit_best = para_search.best_estimator_ #No need to refit on (x,y) because GridSearchCV saves the best model\n",
    "print np.sum(abs(logit_best.coef_) < 1e-4) #All coefficients greater than 1e-4\n",
    "print \"Train error:\" , (1-logit_best.score(x_train,y_train))\n",
    "print \"Test error:\" , (1-logit_best.score(x_test,y_test))"
   ]
  },
  {
   "cell_type": "markdown",
   "metadata": {},
   "source": [
    "# Various model defaults"
   ]
  },
  {
   "cell_type": "code",
   "execution_count": 59,
   "metadata": {
    "collapsed": false
   },
   "outputs": [],
   "source": [
    "from sklearn import linear_model, neighbors, naive_bayes\n",
    "logit = linear_model.LogisticRegression()\n",
    "knn = neighbors.KNeighborsClassifier()\n",
    "gnb = naive_bayes.GaussianNB()\n",
    "mnb = naive_bayes.MultinomialNB()"
   ]
  },
  {
   "cell_type": "code",
   "execution_count": 61,
   "metadata": {
    "collapsed": false
   },
   "outputs": [
    {
     "data": {
      "text/plain": [
       "MultinomialNB(alpha=1.0, class_prior=None, fit_prior=True)"
      ]
     },
     "execution_count": 61,
     "metadata": {},
     "output_type": "execute_result"
    }
   ],
   "source": [
    "logit.fit(x_train, y_train)\n",
    "knn.fit(x_train, y_train)\n",
    "gnb.fit(x_train, y_train)\n",
    "mnb.fit(x_train, y_train)"
   ]
  },
  {
   "cell_type": "code",
   "execution_count": 62,
   "metadata": {
    "collapsed": false
   },
   "outputs": [
    {
     "name": "stdout",
     "output_type": "stream",
     "text": [
      "[[ 0.93640952  0.93585714  0.92408571  0.21490476]\n",
      " [ 0.93566667  0.93046667  0.92437778  0.21104444]]\n"
     ]
    }
   ],
   "source": [
    "score_train = [logit.score(x_train, y_train),  knn.score(x_train, y_train),   gnb.score(x_train, y_train),   mnb.score(x_train, y_train)]\n",
    "score_test = [logit.score(x_test, y_test), knn.score(x_test, y_test), gnb.score(x_test, y_test), mnb.score(x_test, y_test)]\n",
    "print np.array([score_train, score_test])"
   ]
  },
  {
   "cell_type": "code",
   "execution_count": null,
   "metadata": {
    "collapsed": true
   },
   "outputs": [],
   "source": []
  }
 ],
 "metadata": {
  "kernelspec": {
   "display_name": "Python 2",
   "language": "python",
   "name": "python2"
  },
  "language_info": {
   "codemirror_mode": {
    "name": "ipython",
    "version": 2
   },
   "file_extension": ".py",
   "mimetype": "text/x-python",
   "name": "python",
   "nbconvert_exporter": "python",
   "pygments_lexer": "ipython2",
   "version": "2.7.11"
  }
 },
 "nbformat": 4,
 "nbformat_minor": 0
}
