{
 "cells": [
  {
   "cell_type": "markdown",
   "metadata": {},
   "source": [
    "# Load & Imputation"
   ]
  },
  {
   "cell_type": "code",
   "execution_count": 8,
   "metadata": {
    "collapsed": false
   },
   "outputs": [
    {
     "data": {
      "text/html": [
       "<div>\n",
       "<table border=\"1\" class=\"dataframe\">\n",
       "  <thead>\n",
       "    <tr style=\"text-align: right;\">\n",
       "      <th></th>\n",
       "      <th>SeriousDlqin2yrs</th>\n",
       "      <th>age</th>\n",
       "      <th>MonthlyIncome</th>\n",
       "      <th>NumberOfDependents</th>\n",
       "      <th>RevolvingUtilizationOfUnsecuredLines</th>\n",
       "      <th>DebtRatio</th>\n",
       "      <th>NumberOfOpenCreditLinesAndLoans</th>\n",
       "      <th>NumberRealEstateLoansOrLines</th>\n",
       "      <th>NumberOfTime30.59DaysPastDueNotWorse</th>\n",
       "      <th>NumberOfTime60.89DaysPastDueNotWorse</th>\n",
       "      <th>NumberOfTimes90DaysLate</th>\n",
       "    </tr>\n",
       "  </thead>\n",
       "  <tbody>\n",
       "    <tr>\n",
       "      <th>0</th>\n",
       "      <td>1</td>\n",
       "      <td>45.0</td>\n",
       "      <td>9120.0</td>\n",
       "      <td>2.0</td>\n",
       "      <td>0.766127</td>\n",
       "      <td>0.802982</td>\n",
       "      <td>13</td>\n",
       "      <td>6</td>\n",
       "      <td>2.0</td>\n",
       "      <td>0.0</td>\n",
       "      <td>0.0</td>\n",
       "    </tr>\n",
       "    <tr>\n",
       "      <th>1</th>\n",
       "      <td>0</td>\n",
       "      <td>40.0</td>\n",
       "      <td>2600.0</td>\n",
       "      <td>1.0</td>\n",
       "      <td>0.957151</td>\n",
       "      <td>0.121876</td>\n",
       "      <td>4</td>\n",
       "      <td>0</td>\n",
       "      <td>0.0</td>\n",
       "      <td>0.0</td>\n",
       "      <td>0.0</td>\n",
       "    </tr>\n",
       "    <tr>\n",
       "      <th>2</th>\n",
       "      <td>0</td>\n",
       "      <td>38.0</td>\n",
       "      <td>3042.0</td>\n",
       "      <td>0.0</td>\n",
       "      <td>0.658180</td>\n",
       "      <td>0.085113</td>\n",
       "      <td>2</td>\n",
       "      <td>0</td>\n",
       "      <td>1.0</td>\n",
       "      <td>0.0</td>\n",
       "      <td>1.0</td>\n",
       "    </tr>\n",
       "    <tr>\n",
       "      <th>3</th>\n",
       "      <td>0</td>\n",
       "      <td>30.0</td>\n",
       "      <td>3300.0</td>\n",
       "      <td>0.0</td>\n",
       "      <td>0.233810</td>\n",
       "      <td>0.036050</td>\n",
       "      <td>5</td>\n",
       "      <td>0</td>\n",
       "      <td>0.0</td>\n",
       "      <td>0.0</td>\n",
       "      <td>0.0</td>\n",
       "    </tr>\n",
       "    <tr>\n",
       "      <th>4</th>\n",
       "      <td>0</td>\n",
       "      <td>49.0</td>\n",
       "      <td>63588.0</td>\n",
       "      <td>0.0</td>\n",
       "      <td>0.907239</td>\n",
       "      <td>0.024926</td>\n",
       "      <td>7</td>\n",
       "      <td>1</td>\n",
       "      <td>1.0</td>\n",
       "      <td>0.0</td>\n",
       "      <td>0.0</td>\n",
       "    </tr>\n",
       "  </tbody>\n",
       "</table>\n",
       "</div>"
      ],
      "text/plain": [
       "   SeriousDlqin2yrs   age  MonthlyIncome  NumberOfDependents  \\\n",
       "0                 1  45.0         9120.0                 2.0   \n",
       "1                 0  40.0         2600.0                 1.0   \n",
       "2                 0  38.0         3042.0                 0.0   \n",
       "3                 0  30.0         3300.0                 0.0   \n",
       "4                 0  49.0        63588.0                 0.0   \n",
       "\n",
       "   RevolvingUtilizationOfUnsecuredLines  DebtRatio  \\\n",
       "0                              0.766127   0.802982   \n",
       "1                              0.957151   0.121876   \n",
       "2                              0.658180   0.085113   \n",
       "3                              0.233810   0.036050   \n",
       "4                              0.907239   0.024926   \n",
       "\n",
       "   NumberOfOpenCreditLinesAndLoans  NumberRealEstateLoansOrLines  \\\n",
       "0                               13                             6   \n",
       "1                                4                             0   \n",
       "2                                2                             0   \n",
       "3                                5                             0   \n",
       "4                                7                             1   \n",
       "\n",
       "   NumberOfTime30.59DaysPastDueNotWorse  NumberOfTime60.89DaysPastDueNotWorse  \\\n",
       "0                                   2.0                                   0.0   \n",
       "1                                   0.0                                   0.0   \n",
       "2                                   1.0                                   0.0   \n",
       "3                                   0.0                                   0.0   \n",
       "4                                   1.0                                   0.0   \n",
       "\n",
       "   NumberOfTimes90DaysLate  \n",
       "0                      0.0  \n",
       "1                      0.0  \n",
       "2                      1.0  \n",
       "3                      0.0  \n",
       "4                      0.0  "
      ]
     },
     "execution_count": 8,
     "metadata": {},
     "output_type": "execute_result"
    }
   ],
   "source": [
    "\"\"\"\n",
    "Load dataset\n",
    "\"\"\"\n",
    "import pandas as pd\n",
    "import numpy as np\n",
    "path_to_file = \"./credit_r/train_na.csv\"\n",
    "data = pd.read_csv(path_to_file)\n",
    "data = data.drop('Unnamed: 0',axis=1)\n",
    "data.head()"
   ]
  },
  {
   "cell_type": "code",
   "execution_count": 9,
   "metadata": {
    "collapsed": false
   },
   "outputs": [
    {
     "data": {
      "text/plain": [
       "SeriousDlqin2yrs                         0.0000\n",
       "age                                      0.0007\n",
       "MonthlyIncome                           19.8207\n",
       "NumberOfDependents                       2.6160\n",
       "RevolvingUtilizationOfUnsecuredLines     0.0000\n",
       "DebtRatio                                0.0000\n",
       "NumberOfOpenCreditLinesAndLoans          0.0000\n",
       "NumberRealEstateLoansOrLines             0.0000\n",
       "NumberOfTime30.59DaysPastDueNotWorse     0.1793\n",
       "NumberOfTime60.89DaysPastDueNotWorse     0.1793\n",
       "NumberOfTimes90DaysLate                  0.1793\n",
       "dtype: float64"
      ]
     },
     "execution_count": 9,
     "metadata": {},
     "output_type": "execute_result"
    }
   ],
   "source": [
    "#Count of NaN\n",
    "(data.isnull().sum() / data.shape[0] *100).round(4)"
   ]
  },
  {
   "cell_type": "code",
   "execution_count": 10,
   "metadata": {
    "collapsed": false
   },
   "outputs": [
    {
     "data": {
      "text/plain": [
       "SeriousDlqin2yrs                        0\n",
       "age                                     0\n",
       "MonthlyIncome                           0\n",
       "NumberOfDependents                      0\n",
       "RevolvingUtilizationOfUnsecuredLines    0\n",
       "DebtRatio                               0\n",
       "NumberOfOpenCreditLinesAndLoans         0\n",
       "NumberRealEstateLoansOrLines            0\n",
       "NumberOfTime30.59DaysPastDueNotWorse    0\n",
       "NumberOfTime60.89DaysPastDueNotWorse    0\n",
       "NumberOfTimes90DaysLate                 0\n",
       "dtype: int64"
      ]
     },
     "execution_count": 10,
     "metadata": {},
     "output_type": "execute_result"
    }
   ],
   "source": [
    "#IMPUTATION\n",
    "#from sklearn.preprocessing import Imputer\n",
    "data = data.fillna(data.mean())\n",
    "\n",
    "#Count of NaN\n",
    "data.isnull().sum()"
   ]
  },
  {
   "cell_type": "code",
   "execution_count": 11,
   "metadata": {
    "collapsed": false
   },
   "outputs": [
    {
     "data": {
      "text/plain": [
       "SeriousDlqin2yrs\n",
       "0    0.0\n",
       "1    0.0\n",
       "dtype: float64"
      ]
     },
     "execution_count": 11,
     "metadata": {},
     "output_type": "execute_result"
    }
   ],
   "source": [
    "#Missingness in monthly income \n",
    "1-data.groupby('SeriousDlqin2yrs')['MonthlyIncome'].count() / data.groupby('SeriousDlqin2yrs')['SeriousDlqin2yrs'].count()"
   ]
  },
  {
   "cell_type": "markdown",
   "metadata": {},
   "source": [
    "# Split Prep"
   ]
  },
  {
   "cell_type": "code",
   "execution_count": 12,
   "metadata": {
    "collapsed": false
   },
   "outputs": [],
   "source": [
    "import sklearn.cross_validation as cv\n",
    "X = data.iloc[:,1:]\n",
    "y=data.iloc[:,0]\n",
    "x_train, x_test, y_train, y_test = cv.train_test_split(X, \n",
    "                                                       y, \n",
    "                                                       train_size=0.7, \n",
    "                                                       random_state=0)"
   ]
  },
  {
   "cell_type": "code",
   "execution_count": 13,
   "metadata": {
    "collapsed": true
   },
   "outputs": [],
   "source": [
    "import sklearn.metrics as met\n",
    "\n",
    "def get_error(x_train, y_train, x_test, y_test, model, show = True):\n",
    "    model.fit(x_train, y_train)\n",
    "    train_error = 1 - model.score(x_train, y_train)\n",
    "    test_error = 1 - model.score(x_test, y_test)\n",
    "    #train_auc = met.roc_auc_score(x_train, y_train)\n",
    "    #test_auc = met.roc_auc_score(x_test, y_test)\n",
    "    if show:\n",
    "        print \"The training error is: %.5f\" %train_error \n",
    "        print \"The test     error is: %.5f\" %test_error\n",
    "        #print \"The training auc is: %.5f\" %train_auc\n",
    "        #print \"The test     auc is: %.5f\" %test_auc\n",
    "    return [train_error, test_error]"
   ]
  },
  {
   "cell_type": "markdown",
   "metadata": {},
   "source": [
    "# Logistic Regression"
   ]
  },
  {
   "cell_type": "code",
   "execution_count": 63,
   "metadata": {
    "collapsed": false
   },
   "outputs": [
    {
     "name": "stdout",
     "output_type": "stream",
     "text": [
      "The training error is: 0.06358\n",
      "The test     error is: 0.06436\n"
     ]
    },
    {
     "data": {
      "text/plain": [
       "[0.063580952380952405, 0.06435555555555561]"
      ]
     },
     "execution_count": 63,
     "metadata": {},
     "output_type": "execute_result"
    }
   ],
   "source": [
    "#Logistic regression\n",
    "logit = lm.LogisticRegression(C=1e5)\n",
    "get_error(x_train, y_train, x_test, y_test, logit)"
   ]
  },
  {
   "cell_type": "code",
   "execution_count": 57,
   "metadata": {
    "collapsed": false
   },
   "outputs": [
    {
     "name": "stdout",
     "output_type": "stream",
     "text": [
      "The training error is: 0.06368\n",
      "The test     error is: 0.06464\n"
     ]
    },
    {
     "data": {
      "text/plain": [
       "[0.063676190476190442, 0.064644444444444393]"
      ]
     },
     "execution_count": 57,
     "metadata": {},
     "output_type": "execute_result"
    }
   ],
   "source": [
    "#Logistic regression\n",
    "logit = lm.LogisticRegressionCV(Cs=np.logspace(-5, 5, 100), cv=3)\n",
    "get_error(x_train, y_train, x_test, y_test, logit)"
   ]
  },
  {
   "cell_type": "markdown",
   "metadata": {},
   "source": [
    "# Logistic Regression in Spark"
   ]
  },
  {
   "cell_type": "code",
   "execution_count": 21,
   "metadata": {
    "collapsed": true
   },
   "outputs": [],
   "source": [
    "from pyspark.ml.tuning import ParamGridBuilder, CrossValidator\n",
    "from pyspark.ml.classification import LogisticRegression\n",
    "from pyspark.ml.evaluation import BinaryClassificationEvaluator\n",
    "from pyspark.mllib.linalg import Vectors\n",
    "from pyspark.ml.feature import VectorAssembler\n",
    "from pyspark.ml.feature import StringIndexer\n",
    "import pandas as pd"
   ]
  },
  {
   "cell_type": "code",
   "execution_count": 47,
   "metadata": {
    "collapsed": false
   },
   "outputs": [
    {
     "name": "stdout",
     "output_type": "stream",
     "text": [
      "Train AUC: 0.815289888306\n",
      "Train AUC: 0.814704025907\n"
     ]
    }
   ],
   "source": [
    "#Logistic regression in Spark, with CV\n",
    "\n",
    "#Create Spark DF\n",
    "input_index = map(str, range(10))\n",
    "colnames = ['label'] + input_index\n",
    "df = sqlContext.createDataFrame(data, colnames)\n",
    "           \n",
    "#Change label to 'factor'\n",
    "stringIndexer = StringIndexer(inputCol=\"label\", outputCol=\"indexed\")\n",
    "si_model = stringIndexer.fit(df)\n",
    "df = si_model.transform(df)\n",
    "\n",
    "#Prep train and test Spark DF\n",
    "(train_data, test_data) = df.randomSplit([0.7, 0.3])\n",
    "assembler = VectorAssembler(inputCols=input_index, outputCol='features')\n",
    "train_data = assembler.transform(train_data)\n",
    "test_data = assembler.transform(test_data)\n",
    "\n",
    "#Cross-Validation\n",
    "lr = LogisticRegression(labelCol=\"indexed\")\n",
    "grid = ParamGridBuilder().addGrid(lr.maxIter, [0, 1, 2]).addGrid(lr.regParam, [0.01, 0.1, 1.0]).build()\n",
    "cv = CrossValidator(estimator=lr, estimatorParamMaps=grid, evaluator=evaluator)\n",
    "cvModel = cv.fit(train_data)\n",
    "\n",
    "#AUC\n",
    "evaluator = BinaryClassificationEvaluator(labelCol=\"indexed\", metricName=\"areaUnderROC\")\n",
    "print \"Train AUC:\", evaluator.evaluate(cvModel.transform(train_data))\n",
    "print \"Train AUC:\", evaluator.evaluate(cvModel.transform(test_data))"
   ]
  },
  {
   "cell_type": "code",
   "execution_count": null,
   "metadata": {
    "collapsed": true
   },
   "outputs": [],
   "source": []
  }
 ],
 "metadata": {
  "kernelspec": {
   "display_name": "Python 2",
   "language": "python",
   "name": "python2"
  },
  "language_info": {
   "codemirror_mode": {
    "name": "ipython",
    "version": 2
   },
   "file_extension": ".py",
   "mimetype": "text/x-python",
   "name": "python",
   "nbconvert_exporter": "python",
   "pygments_lexer": "ipython2",
   "version": "2.7.11"
  }
 },
 "nbformat": 4,
 "nbformat_minor": 0
}
