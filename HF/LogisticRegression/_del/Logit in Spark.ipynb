{
 "cells": [
  {
   "cell_type": "markdown",
   "metadata": {},
   "source": [
    "# Load & Imputation"
   ]
  },
  {
   "cell_type": "code",
   "execution_count": 8,
   "metadata": {
    "collapsed": false
   },
   "outputs": [
    {
     "data": {
      "text/html": [
       "<div>\n",
       "<table border=\"1\" class=\"dataframe\">\n",
       "  <thead>\n",
       "    <tr style=\"text-align: right;\">\n",
       "      <th></th>\n",
       "      <th>duration</th>\n",
       "      <th>aol</th>\n",
       "      <th>auth</th>\n",
       "      <th>bgp</th>\n",
       "      <th>courier</th>\n",
       "      <th>csnet_ns</th>\n",
       "      <th>ctf</th>\n",
       "      <th>daytime</th>\n",
       "      <th>discard</th>\n",
       "      <th>domain</th>\n",
       "      <th>...</th>\n",
       "      <th>dst_host_srv_count</th>\n",
       "      <th>dst_host_same_srv_rate</th>\n",
       "      <th>dst_host_diff_srv_rate</th>\n",
       "      <th>dst_host_same_src_port_rate</th>\n",
       "      <th>dst_host_srv_diff_host_rate</th>\n",
       "      <th>dst_host_serror_rate</th>\n",
       "      <th>dst_host_srv_serror_rate</th>\n",
       "      <th>dst_host_rerror_rate</th>\n",
       "      <th>dst_host_srv_rerror_rate</th>\n",
       "      <th>outcome.response</th>\n",
       "    </tr>\n",
       "  </thead>\n",
       "  <tbody>\n",
       "    <tr>\n",
       "      <th>0</th>\n",
       "      <td>0</td>\n",
       "      <td>0</td>\n",
       "      <td>0</td>\n",
       "      <td>0</td>\n",
       "      <td>0</td>\n",
       "      <td>0</td>\n",
       "      <td>0</td>\n",
       "      <td>0</td>\n",
       "      <td>0</td>\n",
       "      <td>0</td>\n",
       "      <td>...</td>\n",
       "      <td>25</td>\n",
       "      <td>0.17</td>\n",
       "      <td>0.03</td>\n",
       "      <td>0.17</td>\n",
       "      <td>0.0</td>\n",
       "      <td>0.0</td>\n",
       "      <td>0.0</td>\n",
       "      <td>0.05</td>\n",
       "      <td>0.0</td>\n",
       "      <td>0</td>\n",
       "    </tr>\n",
       "    <tr>\n",
       "      <th>1</th>\n",
       "      <td>0</td>\n",
       "      <td>0</td>\n",
       "      <td>0</td>\n",
       "      <td>0</td>\n",
       "      <td>0</td>\n",
       "      <td>0</td>\n",
       "      <td>0</td>\n",
       "      <td>0</td>\n",
       "      <td>0</td>\n",
       "      <td>0</td>\n",
       "      <td>...</td>\n",
       "      <td>1</td>\n",
       "      <td>0.00</td>\n",
       "      <td>0.60</td>\n",
       "      <td>0.88</td>\n",
       "      <td>0.0</td>\n",
       "      <td>0.0</td>\n",
       "      <td>0.0</td>\n",
       "      <td>0.00</td>\n",
       "      <td>0.0</td>\n",
       "      <td>0</td>\n",
       "    </tr>\n",
       "  </tbody>\n",
       "</table>\n",
       "<p>2 rows × 123 columns</p>\n",
       "</div>"
      ],
      "text/plain": [
       "   duration  aol  auth  bgp  courier  csnet_ns  ctf  daytime  discard  domain  \\\n",
       "0         0    0     0    0        0         0    0        0        0       0   \n",
       "1         0    0     0    0        0         0    0        0        0       0   \n",
       "\n",
       "         ...         dst_host_srv_count  dst_host_same_srv_rate  \\\n",
       "0        ...                         25                    0.17   \n",
       "1        ...                          1                    0.00   \n",
       "\n",
       "   dst_host_diff_srv_rate  dst_host_same_src_port_rate  \\\n",
       "0                    0.03                         0.17   \n",
       "1                    0.60                         0.88   \n",
       "\n",
       "   dst_host_srv_diff_host_rate  dst_host_serror_rate  \\\n",
       "0                          0.0                   0.0   \n",
       "1                          0.0                   0.0   \n",
       "\n",
       "   dst_host_srv_serror_rate  dst_host_rerror_rate  dst_host_srv_rerror_rate  \\\n",
       "0                       0.0                  0.05                       0.0   \n",
       "1                       0.0                  0.00                       0.0   \n",
       "\n",
       "   outcome.response  \n",
       "0                 0  \n",
       "1                 0  \n",
       "\n",
       "[2 rows x 123 columns]"
      ]
     },
     "execution_count": 8,
     "metadata": {},
     "output_type": "execute_result"
    }
   ],
   "source": [
    "\"\"\"\n",
    "Load dataset\n",
    "\"\"\"\n",
    "import pandas as pd\n",
    "import numpy as np\n",
    "path_to_file = \"~/Desktop/new.KDD.train.csv\"\n",
    "data = pd.read_csv(path_to_file)\n",
    "data = data.drop('Unnamed: 0',axis=1)\n",
    "data.head(2)"
   ]
  },
  {
   "cell_type": "markdown",
   "metadata": {
    "collapsed": true
   },
   "source": [
    "# Logistic Regression in Spark"
   ]
  },
  {
   "cell_type": "code",
   "execution_count": 11,
   "metadata": {
    "collapsed": false
   },
   "outputs": [],
   "source": [
    "from pyspark.ml.tuning import ParamGridBuilder, CrossValidator\n",
    "from pyspark.ml.classification import LogisticRegression\n",
    "from pyspark.ml.evaluation import BinaryClassificationEvaluator\n",
    "from pyspark.mllib.linalg import Vectors\n",
    "from pyspark.ml.feature import VectorAssembler\n",
    "from pyspark.ml.feature import StringIndexer\n",
    "import pandas as pd\n",
    "import numpy as np"
   ]
  },
  {
   "cell_type": "code",
   "execution_count": 12,
   "metadata": {
    "collapsed": true
   },
   "outputs": [],
   "source": [
    "#Logistic regression in Spark, with CV\n",
    "\n",
    "#Create Spark DF\n",
    "input_index = map(str, range(122))\n",
    "colnames = input_index + ['label']\n",
    "df = sqlContext.createDataFrame(data, colnames)   \n",
    "\n",
    "#Change label to 'factor'\n",
    "stringIndexer = StringIndexer(inputCol=\"label\", outputCol=\"indexed\")\n",
    "si_model = stringIndexer.fit(df)\n",
    "df = si_model.transform(df)\n",
    "\n",
    "#Prep train and test Spark DF\n",
    "(train_data, test_data) = df.randomSplit([0.7, 0.3])\n",
    "assembler = VectorAssembler(inputCols=input_index, outputCol='features')\n",
    "train_data = assembler.transform(train_data)\n",
    "test_data = assembler.transform(test_data)"
   ]
  },
  {
   "cell_type": "code",
   "execution_count": null,
   "metadata": {
    "collapsed": false
   },
   "outputs": [],
   "source": [
    "#Cross-Validation\n",
    "lr = LogisticRegression(labelCol=\"indexed\", maxIter=100, fitIntercept=True, \\\n",
    "                        threshold=0.5, standardization=True)\n",
    "grid = ParamGridBuilder()\\\n",
    "    .addGrid(lr.regParam, np.logspace(-5, 5, 50))\\\n",
    "    .addGrid(lr.elasticNetParam, np.linspace(0,1,50))\\\n",
    "    .build()\n",
    "evaluator = BinaryClassificationEvaluator(labelCol=\"indexed\", metricName=\"areaUnderROC\")\n",
    "cv = CrossValidator(estimator=lr, estimatorParamMaps=grid, evaluator=evaluator)\n",
    "cvModel = cv.fit(train_data)\n",
    "\n",
    "#AUC\n",
    "print \"Train AUC:\", evaluator.evaluate(cvModel.transform(train_data))\n",
    "print \"Test AUC:\", evaluator.evaluate(cvModel.transform(test_data))"
   ]
  },
  {
   "cell_type": "code",
   "execution_count": null,
   "metadata": {
    "collapsed": true
   },
   "outputs": [],
   "source": []
  }
 ],
 "metadata": {
  "kernelspec": {
   "display_name": "Python 2",
   "language": "python",
   "name": "python2"
  },
  "language_info": {
   "codemirror_mode": {
    "name": "ipython",
    "version": 2
   },
   "file_extension": ".py",
   "mimetype": "text/x-python",
   "name": "python",
   "nbconvert_exporter": "python",
   "pygments_lexer": "ipython2",
   "version": "2.7.11"
  }
 },
 "nbformat": 4,
 "nbformat_minor": 0
}
