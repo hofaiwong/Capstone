{
 "cells": [
  {
   "cell_type": "markdown",
   "metadata": {},
   "source": [
    "# Load"
   ]
  },
  {
   "cell_type": "code",
   "execution_count": 1,
   "metadata": {
    "collapsed": false
   },
   "outputs": [
    {
     "data": {
      "text/html": [
       "<div>\n",
       "<table border=\"1\" class=\"dataframe\">\n",
       "  <thead>\n",
       "    <tr style=\"text-align: right;\">\n",
       "      <th></th>\n",
       "      <th>duration</th>\n",
       "      <th>aol</th>\n",
       "      <th>auth</th>\n",
       "      <th>bgp</th>\n",
       "      <th>courier</th>\n",
       "      <th>csnet_ns</th>\n",
       "      <th>ctf</th>\n",
       "      <th>daytime</th>\n",
       "      <th>discard</th>\n",
       "      <th>domain</th>\n",
       "      <th>...</th>\n",
       "      <th>dst_host_srv_count</th>\n",
       "      <th>dst_host_same_srv_rate</th>\n",
       "      <th>dst_host_diff_srv_rate</th>\n",
       "      <th>dst_host_same_src_port_rate</th>\n",
       "      <th>dst_host_srv_diff_host_rate</th>\n",
       "      <th>dst_host_serror_rate</th>\n",
       "      <th>dst_host_srv_serror_rate</th>\n",
       "      <th>dst_host_rerror_rate</th>\n",
       "      <th>dst_host_srv_rerror_rate</th>\n",
       "      <th>outcome.response</th>\n",
       "    </tr>\n",
       "  </thead>\n",
       "  <tbody>\n",
       "    <tr>\n",
       "      <th>0</th>\n",
       "      <td>0</td>\n",
       "      <td>0</td>\n",
       "      <td>0</td>\n",
       "      <td>0</td>\n",
       "      <td>0</td>\n",
       "      <td>0</td>\n",
       "      <td>0</td>\n",
       "      <td>0</td>\n",
       "      <td>0</td>\n",
       "      <td>0</td>\n",
       "      <td>...</td>\n",
       "      <td>25</td>\n",
       "      <td>0.17</td>\n",
       "      <td>0.03</td>\n",
       "      <td>0.17</td>\n",
       "      <td>0.0</td>\n",
       "      <td>0.0</td>\n",
       "      <td>0.0</td>\n",
       "      <td>0.05</td>\n",
       "      <td>0.0</td>\n",
       "      <td>0</td>\n",
       "    </tr>\n",
       "    <tr>\n",
       "      <th>1</th>\n",
       "      <td>0</td>\n",
       "      <td>0</td>\n",
       "      <td>0</td>\n",
       "      <td>0</td>\n",
       "      <td>0</td>\n",
       "      <td>0</td>\n",
       "      <td>0</td>\n",
       "      <td>0</td>\n",
       "      <td>0</td>\n",
       "      <td>0</td>\n",
       "      <td>...</td>\n",
       "      <td>1</td>\n",
       "      <td>0.00</td>\n",
       "      <td>0.60</td>\n",
       "      <td>0.88</td>\n",
       "      <td>0.0</td>\n",
       "      <td>0.0</td>\n",
       "      <td>0.0</td>\n",
       "      <td>0.00</td>\n",
       "      <td>0.0</td>\n",
       "      <td>0</td>\n",
       "    </tr>\n",
       "  </tbody>\n",
       "</table>\n",
       "<p>2 rows × 123 columns</p>\n",
       "</div>"
      ],
      "text/plain": [
       "   duration  aol  auth  bgp  courier  csnet_ns  ctf  daytime  discard  domain  \\\n",
       "0         0    0     0    0        0         0    0        0        0       0   \n",
       "1         0    0     0    0        0         0    0        0        0       0   \n",
       "\n",
       "         ...         dst_host_srv_count  dst_host_same_srv_rate  \\\n",
       "0        ...                         25                    0.17   \n",
       "1        ...                          1                    0.00   \n",
       "\n",
       "   dst_host_diff_srv_rate  dst_host_same_src_port_rate  \\\n",
       "0                    0.03                         0.17   \n",
       "1                    0.60                         0.88   \n",
       "\n",
       "   dst_host_srv_diff_host_rate  dst_host_serror_rate  \\\n",
       "0                          0.0                   0.0   \n",
       "1                          0.0                   0.0   \n",
       "\n",
       "   dst_host_srv_serror_rate  dst_host_rerror_rate  dst_host_srv_rerror_rate  \\\n",
       "0                       0.0                  0.05                       0.0   \n",
       "1                       0.0                  0.00                       0.0   \n",
       "\n",
       "   outcome.response  \n",
       "0                 0  \n",
       "1                 0  \n",
       "\n",
       "[2 rows x 123 columns]"
      ]
     },
     "execution_count": 1,
     "metadata": {},
     "output_type": "execute_result"
    }
   ],
   "source": [
    "\"\"\"\n",
    "Load dataset\n",
    "\"\"\"\n",
    "import pandas as pd\n",
    "import numpy as np\n",
    "path_to_file = \"~/Desktop/new.KDD.train.csv\"\n",
    "data = pd.read_csv(path_to_file)\n",
    "data = data.drop('Unnamed: 0',axis=1)\n",
    "data.head(2)"
   ]
  },
  {
   "cell_type": "markdown",
   "metadata": {},
   "source": [
    "# Split Prep"
   ]
  },
  {
   "cell_type": "code",
   "execution_count": 2,
   "metadata": {
    "collapsed": true
   },
   "outputs": [],
   "source": [
    "import sklearn.cross_validation as cv\n",
    "X = data.iloc[:,0:-1]\n",
    "y=data.iloc[:,-1]\n",
    "\n",
    "x_train, x_test, y_train, y_test = cv.train_test_split(X, \n",
    "                                                       y, \n",
    "                                                       train_size=0.7, \n",
    "                                                       random_state=0)"
   ]
  },
  {
   "cell_type": "code",
   "execution_count": 3,
   "metadata": {
    "collapsed": true
   },
   "outputs": [],
   "source": [
    "import sklearn.metrics as met\n",
    "\n",
    "def get_error(x_train, y_train, x_test, y_test, model, show = True):\n",
    "    model.fit(x_train, y_train)\n",
    "    train_error = 1 - model.score(x_train, y_train)\n",
    "    test_error = 1 - model.score(x_test, y_test)\n",
    "    #train_auc = met.roc_auc_score(x_train, y_train)\n",
    "    #test_auc = met.roc_auc_score(x_test, y_test)\n",
    "    if show:\n",
    "        print \"The training error is: %.5f\" %train_error \n",
    "        print \"The test     error is: %.5f\" %test_error\n",
    "        #print \"The training auc is: %.5f\" %train_auc\n",
    "        #print \"The test     auc is: %.5f\" %test_auc\n",
    "    return [train_error, test_error]"
   ]
  },
  {
   "cell_type": "markdown",
   "metadata": {},
   "source": [
    "# Logistic Regression"
   ]
  },
  {
   "cell_type": "code",
   "execution_count": 5,
   "metadata": {
    "collapsed": true
   },
   "outputs": [],
   "source": [
    "import sklearn.linear_model as lm"
   ]
  },
  {
   "cell_type": "code",
   "execution_count": 11,
   "metadata": {
    "collapsed": false
   },
   "outputs": [
    {
     "name": "stdout",
     "output_type": "stream",
     "text": [
      "The training error is: 0.12424\n",
      "The test     error is: 0.12476\n"
     ]
    },
    {
     "data": {
      "text/plain": [
       "[0.12424445175264509, 0.1247618543607113]"
      ]
     },
     "execution_count": 11,
     "metadata": {},
     "output_type": "execute_result"
    }
   ],
   "source": [
    "#Logistic regression with 5-fold CV\n",
    "logit = lm.LogisticRegressionCV(Cs=[1e5], cv=5, penalty='l1', solver='liblinear',\\\n",
    "                                scoring='accuracy', max_iter=100, n_jobs=-1, random_state=0)\n",
    "get_error(x_train, y_train, x_test, y_test, logit)"
   ]
  },
  {
   "cell_type": "code",
   "execution_count": 12,
   "metadata": {
    "collapsed": false
   },
   "outputs": [
    {
     "name": "stdout",
     "output_type": "stream",
     "text": [
      "The training error is: 0.12424\n",
      "The test     error is: 0.12471\n"
     ]
    },
    {
     "data": {
      "text/plain": [
       "[0.12424445175264509, 0.12470893310753595]"
      ]
     },
     "execution_count": 12,
     "metadata": {},
     "output_type": "execute_result"
    }
   ],
   "source": [
    "#Logistic regression with Stratified 5-Fold\n",
    "stratify_divide = cv.StratifiedKFold(y=y_train, n_folds=5, shuffle=True, random_state=0)\n",
    "logit = lm.LogisticRegressionCV(Cs=[1e5], cv=stratify_divide, penalty='l1', solver='liblinear',\\\n",
    "                                scoring='accuracy', max_iter=100, n_jobs=-1, random_state=0)\n",
    "get_error(x_train, y_train, x_test, y_test, logit)"
   ]
  },
  {
   "cell_type": "code",
   "execution_count": 13,
   "metadata": {
    "collapsed": false
   },
   "outputs": [
    {
     "name": "stdout",
     "output_type": "stream",
     "text": [
      "The training error is: 0.12367\n",
      "The test     error is: 0.12381\n"
     ]
    },
    {
     "data": {
      "text/plain": [
       "[0.12366609587099264, 0.12380927180355628]"
      ]
     },
     "execution_count": 13,
     "metadata": {},
     "output_type": "execute_result"
    }
   ],
   "source": [
    "#Logistic regression with 5-fold CV and regularization\n",
    "logit = lm.LogisticRegressionCV(Cs=np.logspace(-5, 5, 100), cv=5, penalty='l1', solver='liblinear',\\\n",
    "                                scoring='accuracy', max_iter=100, n_jobs=-1, random_state=0)\n",
    "get_error(x_train, y_train, x_test, y_test, logit)"
   ]
  },
  {
   "cell_type": "code",
   "execution_count": null,
   "metadata": {
    "collapsed": false
   },
   "outputs": [],
   "source": [
    "#Logistic regression with Stratified 5-Fold and regularization\n",
    "stratify_divide = cv.StratifiedKFold(y=y_train, n_folds=5, shuffle=True, random_state=0)\n",
    "logit = lm.LogisticRegressionCV(Cs=np.logspace(-5, 5, 100), cv=stratify_divide, penalty='l1', solver='liblinear',\\\n",
    "                                scoring='accuracy', max_iter=100, n_jobs=-1, random_state=0)\n",
    "get_error(x_train, y_train, x_test, y_test, logit)"
   ]
  },
  {
   "cell_type": "markdown",
   "metadata": {
    "collapsed": true
   },
   "source": [
    "# Ridge Classification"
   ]
  },
  {
   "cell_type": "markdown",
   "metadata": {},
   "source": [
    "http://scikit-learn.org/stable/modules/generated/sklearn.linear_model.RidgeClassifierCV.html"
   ]
  },
  {
   "cell_type": "code",
   "execution_count": null,
   "metadata": {
    "collapsed": true
   },
   "outputs": [],
   "source": [
    "#Ridge classifier CV with Stratified 5-Fold\n",
    "stratify_divide = cv.StratifiedKFold(y=y_train, n_folds=5, shuffle=True, random_state=0)\n",
    "ridge = lm.RidgeClassifierCV(alphas=np.logspace(-2, 5, 100), fit_intercept=True, normalize=True,\\\n",
    "                             scoring='accuracy', cv=stratify_divide)\n",
    "get_error(x_train, y_train, x_test, y_test, ridge)"
   ]
  },
  {
   "cell_type": "code",
   "execution_count": null,
   "metadata": {
    "collapsed": true
   },
   "outputs": [],
   "source": [
    "print ridge.cv_values_\n",
    "print ridge.coef_\n",
    "print ridge.intercept_\n",
    "print ridge.alpha_"
   ]
  },
  {
   "cell_type": "markdown",
   "metadata": {},
   "source": [
    "# Lasso Classification"
   ]
  },
  {
   "cell_type": "code",
   "execution_count": null,
   "metadata": {
    "collapsed": true
   },
   "outputs": [],
   "source": []
  }
 ],
 "metadata": {
  "kernelspec": {
   "display_name": "Python 2",
   "language": "python",
   "name": "python2"
  },
  "language_info": {
   "codemirror_mode": {
    "name": "ipython",
    "version": 2
   },
   "file_extension": ".py",
   "mimetype": "text/x-python",
   "name": "python",
   "nbconvert_exporter": "python",
   "pygments_lexer": "ipython2",
   "version": "2.7.11"
  }
 },
 "nbformat": 4,
 "nbformat_minor": 0
}
